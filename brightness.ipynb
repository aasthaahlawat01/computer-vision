{
 "cells": [
  {
   "cell_type": "code",
   "execution_count": 1,
   "metadata": {},
   "outputs": [
    {
     "name": "stderr",
     "output_type": "stream",
     "text": [
      "/Users/aasthaahlawat/Library/Python/3.9/lib/python/site-packages/urllib3/__init__.py:35: NotOpenSSLWarning: urllib3 v2 only supports OpenSSL 1.1.1+, currently the 'ssl' module is compiled with 'LibreSSL 2.8.3'. See: https://github.com/urllib3/urllib3/issues/3020\n",
      "  warnings.warn(\n"
     ]
    }
   ],
   "source": [
    "import numpy as np\n",
    "import matplotlib.pyplot as plt\n",
    "\n",
    "import os\n",
    "import cv2\n",
    "\n",
    "from PIL import Image\n",
    "\n",
    "from tensorflow import keras\n",
    "import tensorflow.keras.layers as k\n",
    "\n",
    "from tqdm.notebook import tqdm\n",
    "from tensorflow.keras.preprocessing.image import ImageDataGenerator, load_img\n",
    "from tensorflow.keras.utils import to_categorical\n",
    "from sklearn.model_selection import train_test_split"
   ]
  },
  {
   "cell_type": "markdown",
   "metadata": {},
   "source": [
    "BRIGHTNESS"
   ]
  },
  {
   "cell_type": "code",
   "execution_count": 4,
   "metadata": {},
   "outputs": [],
   "source": [
    "cam=cv2.VideoCapture(0)\n",
    "pixels=float(5)\n",
    "\n",
    "while True:\n",
    "    _,img=cam.read()\n",
    "    img=cv2.flip(img,1)\n",
    "\n",
    "    img2=img+pixels\n",
    "\n",
    "    img2[img2<0]=0\n",
    "    img2[img2>255]=255\n",
    "\n",
    "    img2=img2.astype(np.uint8)\n",
    "\n",
    "    cv2.imshow(\"Frame\",img)\n",
    "    cv2.imshow(\"Frame-2\",img2)\n",
    "    \n",
    "    key=cv2.waitKey(30)\n",
    "\n",
    "    if(key==27):\n",
    "        cam.release()\n",
    "        cv2.destroyAllWindows()  \n",
    "        break"
   ]
  },
  {
   "cell_type": "markdown",
   "metadata": {},
   "source": [
    "WARM AND COOL TONE\n",
    "\n",
    "BLUE BACKGROUND"
   ]
  },
  {
   "cell_type": "code",
   "execution_count": 22,
   "metadata": {},
   "outputs": [],
   "source": [
    "cam = cv2.VideoCapture(0)                \n",
    "if not cam.isOpened():\n",
    "    raise RuntimeError(\"Cannot open camera\")\n",
    "\n",
    "ret, frame = cam.read()\n",
    "if not ret:\n",
    "    cam.release()\n",
    "    raise RuntimeError(\"Failed to read from camera\")\n",
    "\n",
    "h, w = frame.shape[:2]                 \n",
    "blue = [247, 206, 139]                 \n",
    "\n",
    "background = np.full((h, w, 3), blue, dtype=np.uint8)\n",
    "\n",
    "alpha = 0.5                              \n",
    "beta  = 1.0 - alpha  \n",
    "\n",
    "while True:\n",
    "    ret, img = cam.read()\n",
    "    if not ret:\n",
    "        break\n",
    "\n",
    "    img = cv2.flip(img, 1)\n",
    "\n",
    "    # If camera resolution differs for some reason, resize background once (optional)\n",
    "    if img.shape != background.shape:\n",
    "        background_resized = cv2.resize(background, (img.shape[1], img.shape[0]),\n",
    "                                        interpolation=cv2.INTER_LINEAR)\n",
    "    else:\n",
    "        background_resized = background\n",
    "\n",
    "    # Blend using OpenCV (saturating arithmetic, safe for uint8)\n",
    "    merged = cv2.addWeighted(img, alpha, background_resized, beta, 0)\n",
    "\n",
    "    cv2.imshow(\"Frame\", img)\n",
    "    cv2.imshow(\"Merged\", merged)\n",
    "\n",
    "    key = cv2.waitKey(1) & 0xFF\n",
    "    if key == 27:           # ESC to quit\n",
    "        break\n",
    "\n",
    "cam.release()\n",
    "cv2.destroyAllWindows()\n"
   ]
  }
 ],
 "metadata": {
  "kernelspec": {
   "display_name": "Python 3",
   "language": "python",
   "name": "python3"
  },
  "language_info": {
   "codemirror_mode": {
    "name": "ipython",
    "version": 3
   },
   "file_extension": ".py",
   "mimetype": "text/x-python",
   "name": "python",
   "nbconvert_exporter": "python",
   "pygments_lexer": "ipython3",
   "version": "3.9.6"
  }
 },
 "nbformat": 4,
 "nbformat_minor": 2
}
