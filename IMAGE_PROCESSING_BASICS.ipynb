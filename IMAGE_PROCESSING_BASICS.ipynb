{
 "cells": [
  {
   "cell_type": "code",
   "execution_count": 1,
   "metadata": {},
   "outputs": [
    {
     "name": "stderr",
     "output_type": "stream",
     "text": [
      "/Users/aasthaahlawat/Library/Python/3.9/lib/python/site-packages/urllib3/__init__.py:35: NotOpenSSLWarning: urllib3 v2 only supports OpenSSL 1.1.1+, currently the 'ssl' module is compiled with 'LibreSSL 2.8.3'. See: https://github.com/urllib3/urllib3/issues/3020\n",
      "  warnings.warn(\n"
     ]
    }
   ],
   "source": [
    "import numpy as np\n",
    "import matplotlib.pyplot as plt\n",
    "\n",
    "import os\n",
    "import cv2\n",
    "\n",
    "from PIL import Image\n",
    "\n",
    "from tensorflow import keras\n",
    "import tensorflow.keras.layers as k\n",
    "\n",
    "from tqdm.notebook import tqdm\n",
    "from tensorflow.keras.preprocessing.image import ImageDataGenerator, load_img\n",
    "from tensorflow.keras.utils import to_categorical\n",
    "from sklearn.model_selection import train_test_split"
   ]
  },
  {
   "cell_type": "markdown",
   "metadata": {},
   "source": [
    "RECTANGLE"
   ]
  },
  {
   "cell_type": "code",
   "execution_count": 2,
   "metadata": {},
   "outputs": [],
   "source": [
    "cam=cv2.VideoCapture(0)\n",
    "\n",
    "while True:\n",
    "    _,img=cam.read()\n",
    "    img=cv2.flip(img,1)\n",
    "    img=cv2.rectangle(img,(400,100),(1500,800),(150,0,0),5)\n",
    "    img=cv2.rectangle(img,(395,95),(1505,805),(0,24,0),5)\n",
    "    img=cv2.rectangle(img,(390,90),(1510,810),(0,0,70),5)\n",
    "\n",
    "    cv2.imshow(\"Frame\",img)\n",
    "    \n",
    "    key=cv2.waitKey(30)\n",
    "\n",
    "    if(key==27):\n",
    "        cam.release()\n",
    "        cv2.destroyAllWindows() \n",
    "        break"
   ]
  },
  {
   "cell_type": "markdown",
   "metadata": {},
   "source": [
    "CIRCLE"
   ]
  },
  {
   "cell_type": "code",
   "execution_count": 3,
   "metadata": {},
   "outputs": [],
   "source": [
    "cam=cv2.VideoCapture(0)\n",
    "\n",
    "while True:\n",
    "    _,img=cam.read()\n",
    "    img=cv2.flip(img,1)\n",
    "\n",
    "    img=cv2.circle(img,(800,550),900,(255,255,255),500)\n",
    "    cv2.imshow(\"Frame\",img)\n",
    "    \n",
    "    key=cv2.waitKey(30)\n",
    "\n",
    "    if(key==27):\n",
    "        cam.release()\n",
    "        cv2.destroyAllWindows() \n",
    "        break"
   ]
  },
  {
   "cell_type": "markdown",
   "metadata": {},
   "source": [
    "TEXT"
   ]
  },
  {
   "cell_type": "code",
   "execution_count": 4,
   "metadata": {},
   "outputs": [],
   "source": [
    "cam=cv2.VideoCapture(0)\n",
    "\n",
    "while True:\n",
    "    _,img=cam.read()\n",
    "    img=cv2.flip(img,1)\n",
    "    img=cv2.putText(img,'Aastha Ahlawat',(20,50),cv2.FONT_HERSHEY_COMPLEX,2,(160,56,89),2)\n",
    "    \n",
    "    cv2.imshow(\"Frame\",img)\n",
    "    \n",
    "    key=cv2.waitKey(30)\n",
    "\n",
    "    if(key==27):\n",
    "        cam.release()\n",
    "        cv2.destroyAllWindows() \n",
    "        break"
   ]
  },
  {
   "cell_type": "markdown",
   "metadata": {},
   "source": [
    "EDGE "
   ]
  },
  {
   "cell_type": "code",
   "execution_count": 5,
   "metadata": {},
   "outputs": [],
   "source": [
    "cam=cv2.VideoCapture(0)\n",
    "\n",
    "while True:\n",
    "    _,img=cam.read()\n",
    "    img=cv2.flip(img,1)\n",
    "    edge=cv2.Canny(img,0,150)\n",
    "    \n",
    "    cv2.imshow(\"Frame\",img)\n",
    "    cv2.imshow(\"Edge\",edge)\n",
    "    \n",
    "    key=cv2.waitKey(30)\n",
    "\n",
    "    if(key==27):\n",
    "        cam.release()\n",
    "        cv2.destroyAllWindows()  \n",
    "        break"
   ]
  },
  {
   "cell_type": "markdown",
   "metadata": {},
   "source": [
    "BLURRING"
   ]
  },
  {
   "cell_type": "code",
   "execution_count": 6,
   "metadata": {},
   "outputs": [],
   "source": [
    "cam=cv2.VideoCapture(0)\n",
    "\n",
    "while True:\n",
    "    _,img=cam.read()\n",
    "    img=cv2.flip(img,1)\n",
    "    blur_img=cv2.blur(img,(15,15))\n",
    "    \n",
    "    cv2.imshow(\"Frame\",img)\n",
    "    cv2.imshow(\"Blur\",blur_img)\n",
    "    \n",
    "    key=cv2.waitKey(30)\n",
    "\n",
    "    if(key==27):\n",
    "        cam.release()\n",
    "        cv2.destroyAllWindows()  \n",
    "        break"
   ]
  },
  {
   "cell_type": "markdown",
   "metadata": {},
   "source": [
    "EDGE DETECTION ON BLUR"
   ]
  },
  {
   "cell_type": "code",
   "execution_count": 7,
   "metadata": {},
   "outputs": [],
   "source": [
    "cam=cv2.VideoCapture(0)\n",
    "\n",
    "while True:\n",
    "    _,img=cam.read()\n",
    "    img=cv2.flip(img,1)\n",
    "    blur_img=cv2.blur(img,(15,15))\n",
    "    edge=cv2.Canny(blur_img,0,150)\n",
    "    \n",
    "    cv2.imshow(\"Frame\",img)\n",
    "    cv2.imshow(\"Blur\",blur_img)\n",
    "    cv2.imshow(\"Edge\",edge)\n",
    "    \n",
    "    key=cv2.waitKey(30)\n",
    "\n",
    "    if(key==27):\n",
    "        cam.release()\n",
    "        cv2.destroyAllWindows()  \n",
    "        break"
   ]
  },
  {
   "cell_type": "markdown",
   "metadata": {},
   "source": [
    "RESIZE IMAGE"
   ]
  },
  {
   "cell_type": "code",
   "execution_count": 8,
   "metadata": {},
   "outputs": [],
   "source": [
    "cam=cv2.VideoCapture(0)\n",
    "\n",
    "while True:\n",
    "    _,img=cam.read()\n",
    "    img=cv2.flip(img,1)\n",
    "    resize_img=cv2.resize(img,(int(img.shape[1]/4),int(img.shape[0]/4)))\n",
    "    \n",
    "    cv2.imshow(\"Frame\",img)\n",
    "    cv2.imshow(\"Resize\",resize_img)\n",
    "    \n",
    "    key=cv2.waitKey(30)\n",
    "\n",
    "    if(key==27):\n",
    "        cam.release()\n",
    "        cv2.destroyAllWindows()  \n",
    "        break"
   ]
  },
  {
   "cell_type": "markdown",
   "metadata": {},
   "source": [
    "CROPPED IMAGE"
   ]
  },
  {
   "cell_type": "code",
   "execution_count": 9,
   "metadata": {},
   "outputs": [],
   "source": [
    "cam=cv2.VideoCapture(0)\n",
    "\n",
    "while True:\n",
    "    _,img=cam.read()\n",
    "    img=cv2.flip(img,1)\n",
    "    crop_img=img[100:500,:,:]\n",
    "    \n",
    "    cv2.imshow(\"Frame\",img)\n",
    "    cv2.imshow(\"Cropped\",crop_img)\n",
    "    \n",
    "    key=cv2.waitKey(30)\n",
    "\n",
    "    if(key==27):\n",
    "        cam.release()\n",
    "        cv2.destroyAllWindows()  \n",
    "        break"
   ]
  },
  {
   "cell_type": "markdown",
   "metadata": {},
   "source": [
    "FRAME EXTRACTION"
   ]
  },
  {
   "cell_type": "code",
   "execution_count": 10,
   "metadata": {},
   "outputs": [],
   "source": [
    "cam=cv2.VideoCapture(0)\n",
    "\n",
    "while True:\n",
    "    _,img=cam.read()\n",
    "    img=cv2.flip(img,1)\n",
    "    hsv=cv2.cvtColor(img,cv2.COLOR_BGR2HSV)\n",
    "    \n",
    "    cv2.imshow(\"Frame\",img)\n",
    "    cv2.imshow(\"Cropped\",hsv)\n",
    "    \n",
    "    key=cv2.waitKey(30)\n",
    "\n",
    "    if(key==27):\n",
    "        cam.release()\n",
    "        cv2.destroyAllWindows()  \n",
    "        break"
   ]
  },
  {
   "cell_type": "code",
   "execution_count": 11,
   "metadata": {},
   "outputs": [],
   "source": [
    "cam=cv2.VideoCapture(0)\n",
    "\n",
    "while True:\n",
    "    _,img=cam.read()\n",
    "    img=cv2.flip(img,1)\n",
    "\n",
    "    r=img[:,:,0]\n",
    "    b=img[:,:,1]\n",
    "    g=img[:,:,2]\n",
    "    \n",
    "    \n",
    "    cv2.imshow(\"Frame\",img)\n",
    "    cv2.imshow(\"Frame\",r)\n",
    "    cv2.imshow(\"Frame\",g)\n",
    "    cv2.imshow(\"Frame\",b)\n",
    "    \n",
    "    key=cv2.waitKey(30)\n",
    "\n",
    "    if(key==27):\n",
    "        cam.release()\n",
    "        cv2.destroyAllWindows()  \n",
    "        break"
   ]
  },
  {
   "cell_type": "markdown",
   "metadata": {},
   "source": [
    "SELFIE"
   ]
  },
  {
   "cell_type": "code",
   "execution_count": 12,
   "metadata": {},
   "outputs": [],
   "source": [
    "cam=cv2.VideoCapture(0)\n",
    "\n",
    "while True:\n",
    "    _,img=cam.read()\n",
    "    img=cv2.flip(img,1)\n",
    "    \n",
    "    cv2.imshow(\"Frame\",img)\n",
    "    \n",
    "    key=cv2.waitKey(30)\n",
    "\n",
    "    if(key==13):\n",
    "        cv2.imwrite('Selfie.png',img)\n",
    "        cam.release()\n",
    "        cv2.destroyAllWindows()  \n",
    "        break"
   ]
  },
  {
   "cell_type": "markdown",
   "metadata": {},
   "source": [
    "MULTIPLE SELFIES"
   ]
  },
  {
   "cell_type": "code",
   "execution_count": 15,
   "metadata": {},
   "outputs": [],
   "source": [
    "if not os.path.exists('Selfies'):\n",
    "    os.makedirs('Selfies')\n",
    "cam=cv2.VideoCapture(0)\n",
    "c=1\n",
    "while True:\n",
    "    _,img=cam.read()\n",
    "    img=cv2.flip(img,1)\n",
    "    \n",
    "    cv2.imshow(\"Frame\",img)\n",
    "    \n",
    "    key=cv2.waitKey(30)\n",
    "\n",
    "    if(key==13):\n",
    "        cv2.imwrite('Selfies/Selfie_'+str(c)+'.png',img)\n",
    "        c+=1\n",
    "\n",
    "    if(key==27):\n",
    "        cam.release()\n",
    "        cv2.destroyAllWindows()  \n",
    "        break"
   ]
  }
 ],
 "metadata": {
  "kernelspec": {
   "display_name": "Python 3",
   "language": "python",
   "name": "python3"
  },
  "language_info": {
   "codemirror_mode": {
    "name": "ipython",
    "version": 3
   },
   "file_extension": ".py",
   "mimetype": "text/x-python",
   "name": "python",
   "nbconvert_exporter": "python",
   "pygments_lexer": "ipython3",
   "version": "3.9.6"
  }
 },
 "nbformat": 4,
 "nbformat_minor": 2
}
