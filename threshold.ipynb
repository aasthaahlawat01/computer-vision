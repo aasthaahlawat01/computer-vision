{
 "cells": [
  {
   "cell_type": "code",
   "execution_count": 1,
   "metadata": {},
   "outputs": [
    {
     "name": "stderr",
     "output_type": "stream",
     "text": [
      "/Users/aasthaahlawat/Library/Python/3.9/lib/python/site-packages/urllib3/__init__.py:35: NotOpenSSLWarning: urllib3 v2 only supports OpenSSL 1.1.1+, currently the 'ssl' module is compiled with 'LibreSSL 2.8.3'. See: https://github.com/urllib3/urllib3/issues/3020\n",
      "  warnings.warn(\n"
     ]
    }
   ],
   "source": [
    "import numpy as np\n",
    "import matplotlib.pyplot as plt\n",
    "\n",
    "import os\n",
    "import cv2\n",
    "\n",
    "from PIL import Image\n",
    "\n",
    "from tensorflow import keras\n",
    "import tensorflow.keras.layers as k\n",
    "\n",
    "from tqdm.notebook import tqdm\n",
    "from tensorflow.keras.preprocessing.image import ImageDataGenerator, load_img\n",
    "from tensorflow.keras.utils import to_categorical\n",
    "from sklearn.model_selection import train_test_split"
   ]
  },
  {
   "cell_type": "markdown",
   "metadata": {},
   "source": [
    "THRESHOLD "
   ]
  },
  {
   "cell_type": "code",
   "execution_count": 4,
   "metadata": {},
   "outputs": [],
   "source": [
    "cam=cv2.VideoCapture(0)\n",
    "\n",
    "while True:\n",
    "    _,img=cam.read()\n",
    "    img=cv2.flip(img,1)\n",
    "    gray=cv2.cvtColor(img,cv2.COLOR_BGR2GRAY)\n",
    "    gray_2=gray.copy()\n",
    "    gray_2[gray_2>140]=255\n",
    "    \n",
    "    cv2.imshow(\"Frame\",img)\n",
    "    cv2.imshow(\"Gray\",gray)\n",
    "    cv2.imshow(\"Gray2\",gray_2)\n",
    "    \n",
    "    key=cv2.waitKey(30)\n",
    "\n",
    "    if(key==27):\n",
    "        cam.release()\n",
    "        cv2.destroyAllWindows()  \n",
    "        break"
   ]
  },
  {
   "cell_type": "markdown",
   "metadata": {},
   "source": [
    "COLOR MASKING"
   ]
  },
  {
   "cell_type": "code",
   "execution_count": 9,
   "metadata": {},
   "outputs": [],
   "source": [
    "cam=cv2.VideoCapture(0)\n",
    "lower=np.array([150,150,150])\n",
    "upper=np.array([255,255,255])\n",
    "\n",
    "\n",
    "while True:\n",
    "    _,img=cam.read()\n",
    "    img=cv2.flip(img,1)\n",
    "    mask=cv2.blur(img,(4,4))\n",
    "    mask=cv2.inRange(img,lower,upper)\n",
    "\n",
    "    cv2.imshow(\"Frame\",img)\n",
    "    cv2.imshow(\"Mask\",mask)\n",
    "    \n",
    "    key=cv2.waitKey(30)\n",
    "\n",
    "    if(key==27):\n",
    "        cam.release()\n",
    "        cv2.destroyAllWindows()  \n",
    "        break"
   ]
  },
  {
   "cell_type": "markdown",
   "metadata": {},
   "source": []
  }
 ],
 "metadata": {
  "kernelspec": {
   "display_name": "Python 3",
   "language": "python",
   "name": "python3"
  },
  "language_info": {
   "codemirror_mode": {
    "name": "ipython",
    "version": 3
   },
   "file_extension": ".py",
   "mimetype": "text/x-python",
   "name": "python",
   "nbconvert_exporter": "python",
   "pygments_lexer": "ipython3",
   "version": "3.9.6"
  }
 },
 "nbformat": 4,
 "nbformat_minor": 2
}
