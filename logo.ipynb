{
 "cells": [
  {
   "cell_type": "code",
   "execution_count": 1,
   "metadata": {},
   "outputs": [
    {
     "name": "stderr",
     "output_type": "stream",
     "text": [
      "/Users/aasthaahlawat/Library/Python/3.9/lib/python/site-packages/urllib3/__init__.py:35: NotOpenSSLWarning: urllib3 v2 only supports OpenSSL 1.1.1+, currently the 'ssl' module is compiled with 'LibreSSL 2.8.3'. See: https://github.com/urllib3/urllib3/issues/3020\n",
      "  warnings.warn(\n"
     ]
    }
   ],
   "source": [
    "import numpy as np\n",
    "import matplotlib.pyplot as plt\n",
    "\n",
    "import os\n",
    "import cv2\n",
    "\n",
    "from PIL import Image\n",
    "\n",
    "from tensorflow import keras\n",
    "import tensorflow.keras.layers as k\n",
    "\n",
    "from tqdm.notebook import tqdm\n",
    "from tensorflow.keras.preprocessing.image import ImageDataGenerator, load_img\n",
    "from tensorflow.keras.utils import to_categorical\n",
    "from sklearn.model_selection import train_test_split"
   ]
  },
  {
   "cell_type": "markdown",
   "metadata": {},
   "source": [
    "ADDING LOGO"
   ]
  },
  {
   "cell_type": "code",
   "execution_count": 4,
   "metadata": {},
   "outputs": [],
   "source": [
    "cam=cv2.VideoCapture(0)\n",
    "logo=cv2.imread('/Users/aasthaahlawat/Documents/CNN/photo.jpeg')\n",
    "logo=cv2.resize(logo,(100,100))\n",
    "\n",
    "while True:\n",
    "    _,img=cam.read()\n",
    "    img=cv2.flip(img,1)\n",
    "    h_logo,w_logo=logo.shape[:2]\n",
    "    y,x=50,100\n",
    "\n",
    "    img[y:y+h_logo,x:x+w_logo]=logo\n",
    "\n",
    "    cv2.imshow(\"Frame\",img)\n",
    "    \n",
    "    key=cv2.waitKey(30)\n",
    "\n",
    "\n",
    "    if(key==27):\n",
    "        cam.release()\n",
    "        cv2.destroyAllWindows() \n",
    "        break"
   ]
  },
  {
   "cell_type": "markdown",
   "metadata": {},
   "source": [
    "AUTO-FIT LOGO"
   ]
  },
  {
   "cell_type": "code",
   "execution_count": 17,
   "metadata": {},
   "outputs": [],
   "source": [
    "cam=cv2.VideoCapture(0)\n",
    "logo=cv2.imread('/Users/aasthaahlawat/Documents/CNN/photo.jpeg')\n",
    "logo=cv2.resize(logo,(20,20))\n",
    "h_logo,w_logo=logo.shape[:2]\n",
    "scaling_factor=1.0\n",
    "\n",
    "while True:\n",
    "    _,img=cam.read()\n",
    "    img=cv2.flip(img,1)\n",
    "    img=cv2.resize(img,(int(img.shape[1]*scaling_factor),int(img.shape[0]*scaling_factor)))\n",
    "\n",
    "    h=img.shape[0]\n",
    "    w=img.shape[1]\n",
    "\n",
    "    margin_top=int(h*0.01)\n",
    "    margin_left=int(w*0.955)\n",
    "\n",
    "    bg=img[margin_top:margin_top+h_logo,margin_left:margin_left+w_logo].copy()\n",
    "    \n",
    "\n",
    "    if margin_top + h_logo <= h and margin_left + w_logo <= w:\n",
    "     img[margin_top:margin_top+h_logo,margin_left:margin_left+w_logo]=logo\n",
    "\n",
    "    cv2.imshow(\"Frame\",img)\n",
    "\n",
    "    key = cv2.waitKey(30) & 0xFF\n",
    "\n",
    "    if(key==115):\n",
    "       scaling_factor-=.1\n",
    "\n",
    "    elif(key==119):\n",
    "       scaling_factor+=.1\n",
    "\n",
    "\n",
    "    elif(key==27):\n",
    "        cam.release()\n",
    "        cv2.destroyAllWindows() \n",
    "        break"
   ]
  },
  {
   "cell_type": "markdown",
   "metadata": {},
   "source": [
    "TRANSPARENT LOGO"
   ]
  },
  {
   "cell_type": "code",
   "execution_count": 18,
   "metadata": {},
   "outputs": [],
   "source": [
    "cam=cv2.VideoCapture(0)\n",
    "logo=cv2.imread('/Users/aasthaahlawat/Documents/CNN/photo.jpeg')\n",
    "logo=cv2.resize(logo,(20,20))\n",
    "h_logo,w_logo=logo.shape[:2]\n",
    "scaling_factor=1.0\n",
    "\n",
    "while True:\n",
    "    _,img=cam.read()\n",
    "    img=cv2.flip(img,1)\n",
    "    img=cv2.resize(img,(int(img.shape[1]*scaling_factor),int(img.shape[0]*scaling_factor)))\n",
    "\n",
    "    h=img.shape[0]\n",
    "    w=img.shape[1]\n",
    "\n",
    "    margin_top=int(h*0.01)\n",
    "    margin_left=int(w*0.955)\n",
    "\n",
    "    bg=img[margin_top:margin_top+h_logo,margin_left:margin_left+w_logo].copy()\n",
    "    final_logo=cv2.addWeighted(bg,.5,logo,.5,0)\n",
    "\n",
    "    if margin_top + h_logo <= h and margin_left + w_logo <= w:\n",
    "     img[margin_top:margin_top+h_logo,margin_left:margin_left+w_logo]=final_logo\n",
    "\n",
    "    cv2.imshow(\"Frame\",img)\n",
    "\n",
    "    key = cv2.waitKey(30) & 0xFF\n",
    "\n",
    "    if(key==115):\n",
    "       scaling_factor-=.1\n",
    "\n",
    "    elif(key==119):\n",
    "       scaling_factor+=.1\n",
    "\n",
    "\n",
    "    elif(key==27):\n",
    "        cam.release()\n",
    "        cv2.destroyAllWindows() \n",
    "        break"
   ]
  }
 ],
 "metadata": {
  "kernelspec": {
   "display_name": "Python 3",
   "language": "python",
   "name": "python3"
  },
  "language_info": {
   "codemirror_mode": {
    "name": "ipython",
    "version": 3
   },
   "file_extension": ".py",
   "mimetype": "text/x-python",
   "name": "python",
   "nbconvert_exporter": "python",
   "pygments_lexer": "ipython3",
   "version": "3.9.6"
  }
 },
 "nbformat": 4,
 "nbformat_minor": 2
}
